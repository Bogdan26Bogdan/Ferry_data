{
 "cells": [
  {
   "cell_type": "markdown",
   "id": "b6a7ccc9-000f-4413-af69-72b98cc1db3f",
   "metadata": {},
   "source": [
    "To install a package over pip so that it works in the notebook you have to run: \n",
    "```bash\n",
    "$ source /opt/tljh/user/bin/activate\n",
    "$ pip install <package name>\n",
    "```\n",
    "and then restart the ipykernal."
   ]
  },
  {
   "cell_type": "markdown",
   "id": "db132ef9-78ad-49c0-91e9-0e65393ea991",
   "metadata": {},
   "source": [
    "Imports"
   ]
  },
  {
   "cell_type": "code",
   "execution_count": 1,
   "id": "04f3ccc6-9f24-4625-8bf1-aeba5f17afad",
   "metadata": {},
   "outputs": [],
   "source": [
    "import ferryFile\n",
    "import port\n",
    "import numpy as np\n",
    "import heapq"
   ]
  },
  {
   "cell_type": "markdown",
   "id": "cf53d307-676b-4b21-89a2-111b8aab3677",
   "metadata": {},
   "source": [
    "Constants and Objects"
   ]
  },
  {
   "cell_type": "code",
   "execution_count": 2,
   "id": "e6968009-62fe-4b4f-a268-40150d9a9644",
   "metadata": {},
   "outputs": [],
   "source": [
    "MAX_SIMULATION_TIME = 1000\n",
    "\n",
    "\n",
    "PORT_CODES = [\"SWB\", \"TSA\", \"SGI\", \"HSB\", \"NAN\", \"LNG\"]\n",
    "FERRIES = []\n",
    "SEEDS = [234,4234,324,325543,2]\n",
    "\n",
    "# Programmatically create the port objects for each of the port codes\n",
    "for port_code in PORT_CODES:\n",
    "    globals()[port_code] = port.Port() \n",
    "    globals()[port_code].port_code = port_code\n",
    "\n",
    "\n",
    "# Most of the trips take the same amount of time independent of the ferry \n",
    "# Makes every port to every other port take 20ish minutes. \n",
    "# Times are made to be the same independent of direction.\n",
    "TRIP_TIMES = {}\n",
    "for port in PORT_CODES:\n",
    "    for other_port in [i for i in PORT_CODES if i != port]:\n",
    "        if other_port + port in TRIP_TIMES.keys():\n",
    "            TRIP_TIMES[port+other_port] = TRIP_TIMES[other_port+port]\n",
    "        else:\n",
    "            TRIP_TIMES[port + other_port] = np.random.normal(20, 2.5)\n",
    "\n",
    "# Set the loading and unloading times\n",
    "# Port + Current_time for every 5 step increment\n",
    "LOADING_AND_UNLOADING_TIMES = {}\n",
    "for port_code in PORT_CODES:\n",
    "    for time in range(0, MAX_SIMULATION_TIME, 5):\n",
    "        LOADING_AND_UNLOADING_TIMES[globals()[port_code] + time] = np.random.normal(10, 2.5)\n",
    "    \n"
   ]
  },
  {
   "cell_type": "code",
   "execution_count": 3,
   "id": "97b345d7-3c54-4708-a182-a0467e7ea983",
   "metadata": {
    "editable": true,
    "scrolled": true,
    "slideshow": {
     "slide_type": ""
    },
    "tags": []
   },
   "outputs": [
    {
     "name": "stdout",
     "output_type": "stream",
     "text": [
      "QNW has completed their trip at time 90.04966197907234.\n",
      "Total time with the ferry being late to arrive: 20.541582955057475\n",
      "Total time with the ferry being late to depart: 5.016366112360757\n",
      "Arrival times [scheduled, actual]: [[0, 0], [15, 19.726213240464386], [45, 50.76570773552075], [80, 90.04966197907234]]\n",
      "Departure times [scheduled, actual]: [[0, 0], [25, 30.016366112360757], [70, 70], [90, 0]]\n",
      "QNW has completed their trip at time 90.04966197907234.\n",
      "Total time with the ferry being late to arrive: 20.541582955057475\n",
      "Total time with the ferry being late to depart: 5.016366112360757\n",
      "Arrival times [scheduled, actual]: [[0, 0], [15, 19.726213240464386], [45, 50.76570773552075], [80, 90.04966197907234]]\n",
      "Departure times [scheduled, actual]: [[0, 0], [25, 30.016366112360757], [70, 70], [90, 0]]\n",
      "QNW has completed their trip at time 90.04966197907234.\n",
      "Total time with the ferry being late to arrive: 20.541582955057475\n",
      "Total time with the ferry being late to depart: 5.016366112360757\n",
      "Arrival times [scheduled, actual]: [[0, 0], [15, 19.726213240464386], [45, 50.76570773552075], [80, 90.04966197907234]]\n",
      "Departure times [scheduled, actual]: [[0, 0], [25, 30.016366112360757], [70, 70], [90, 0]]\n",
      "QNW has completed their trip at time 90.04966197907234.\n",
      "Total time with the ferry being late to arrive: 20.541582955057475\n",
      "Total time with the ferry being late to depart: 5.016366112360757\n",
      "Arrival times [scheduled, actual]: [[0, 0], [15, 19.726213240464386], [45, 50.76570773552075], [80, 90.04966197907234]]\n",
      "Departure times [scheduled, actual]: [[0, 0], [25, 30.016366112360757], [70, 70], [90, 0]]\n",
      "QNW has completed their trip at time 90.04966197907234.\n",
      "Total time with the ferry being late to arrive: 20.541582955057475\n",
      "Total time with the ferry being late to depart: 5.016366112360757\n",
      "Arrival times [scheduled, actual]: [[0, 0], [15, 19.726213240464386], [45, 50.76570773552075], [80, 90.04966197907234]]\n",
      "Departure times [scheduled, actual]: [[0, 0], [25, 30.016366112360757], [70, 70], [90, 0]]\n"
     ]
    }
   ],
   "source": [
    "def normal_min(value, min):\n",
    "    gen_val = int(np.random.normal(value))\n",
    "    while gen_val < min:\n",
    "        gen_val = int(np.random.normal(value))\n",
    "    return gen_val\n",
    "\n",
    "\n",
    "for seed_value in SEEDS:\n",
    "    np.random.seed(seed_value)\n",
    "\n",
    "    #Create a ferry object\n",
    "    QNW = ferryFile.Ferry()\n",
    "    QNW.ferry_name = \"Queen of New Westminster\"\n",
    "    QNW.ferry_code = \"QNW\"\n",
    "    QNW.ferry_capacity = 150\n",
    "    QNW.ferry_route = [TSA, SWB, SGI, TSA]\n",
    "    QNW.ferry_trip_time = TRIP_TIMES\n",
    "    QNW.set_expected_departure_times([0, 25, 70, 90])\n",
    "    QNW.set_expected_arrival_times([0, 15, 45, 80])\n",
    "    QNW.loading_unloading_time = LOADING_AND_UNLOADING_TIMES\n",
    "    QNW.trips_required = 1\n",
    "    \n",
    "    QNW.trips_completed = 0\n",
    "    QNW.ferry_current_port_index = 0\n",
    "    QNW.validate_arrival_and_departure_times()\n",
    "\n",
    "\n",
    "    current_time =0\n",
    "    event_queue = []\n",
    "    heapq.heapify(event_queue)\n",
    "    heapq.heappush(event_queue, (current_time, QNW))\n",
    "    \n",
    "\n",
    "    current_event = heapq.heappop(event_queue)\n",
    "    while current_event[1].next_function != None:\n",
    "        current_time = current_event[0]\n",
    "\n",
    "        next_event_time = current_event[1].next_function(current_time)\n",
    "        heapq.heappush(event_queue, (next_event_time, current_event[1]))\n",
    "\n",
    "        current_event = heapq.heappop(event_queue)\n",
    "\n",
    "    print(f\"Arrival times [scheduled, actual]: {QNW.ferry_arrival_time}\")\n",
    "    print(f\"Departure times [scheduled, actual]: {QNW.ferry_departure_time}\")\n",
    "\n",
    "\n",
    "\n",
    "\n",
    "\n",
    "\n"
   ]
  },
  {
   "cell_type": "code",
   "execution_count": null,
   "id": "97b06b2c-6b90-484b-9a34-bf081c8087d9",
   "metadata": {},
   "outputs": [],
   "source": []
  },
  {
   "cell_type": "code",
   "execution_count": null,
   "id": "7b177310-0180-45fe-8fe7-fff85e0ab10b",
   "metadata": {},
   "outputs": [],
   "source": []
  }
 ],
 "metadata": {
  "kernelspec": {
   "display_name": "Python 3 (ipykernel)",
   "language": "python",
   "name": "python3"
  },
  "language_info": {
   "codemirror_mode": {
    "name": "ipython",
    "version": 3
   },
   "file_extension": ".py",
   "mimetype": "text/x-python",
   "name": "python",
   "nbconvert_exporter": "python",
   "pygments_lexer": "ipython3",
   "version": "3.12.6"
  }
 },
 "nbformat": 4,
 "nbformat_minor": 5
}
