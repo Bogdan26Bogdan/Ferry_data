{
 "cells": [
  {
   "cell_type": "markdown",
   "id": "b6a7ccc9-000f-4413-af69-72b98cc1db3f",
   "metadata": {},
   "source": [
    "To install a package over pip so that it works in the notebook you have to run: \n",
    "```bash\n",
    "$ source /opt/tljh/user/bin/activate\n",
    "$ pip install <package name>\n",
    "```\n",
    "and then restart the ipykernal."
   ]
  },
  {
   "cell_type": "markdown",
   "id": "db132ef9-78ad-49c0-91e9-0e65393ea991",
   "metadata": {},
   "source": [
    "Imports"
   ]
  },
  {
   "cell_type": "code",
   "execution_count": 1,
   "id": "04f3ccc6-9f24-4625-8bf1-aeba5f17afad",
   "metadata": {},
   "outputs": [],
   "source": [
    "import ferryFile\n",
    "import port\n",
    "import numpy as np\n",
    "import heapq\n",
    "import scipy\n",
    "from matplotlib import pyplot as plt \n",
    "import matplotlib_inline\n",
    "import itertools"
   ]
  },
  {
   "cell_type": "markdown",
   "id": "cf53d307-676b-4b21-89a2-111b8aab3677",
   "metadata": {},
   "source": [
    "Constants and Objects"
   ]
  },
  {
   "cell_type": "code",
   "execution_count": 2,
   "id": "e6968009-62fe-4b4f-a268-40150d9a9644",
   "metadata": {},
   "outputs": [],
   "source": [
    "MAX_SIMULATION_TIME = 1000\n",
    "\n",
    "\n",
    "MEAN_TRIP_TIME = 20\n",
    "SD_TRIP_TIME = 1.5\n",
    "MEAN_LOADING_UNLOADING_TIME = 10\n",
    "SD_LOADING_UNLOADING_TIME = 1\n",
    "\n",
    "\n",
    "PORT_CODES = [\"SWB\", \"TSA\", \"SGI\", \"HSB\", \"NAN\", \"LNG\"]\n",
    "FERRIES = []\n",
    "SEEDS = [234,4234,324,325543,2,34,546,74,567,568,568,89,364575,342,45,3456473,546,3456473]\n",
    "SEEDS = set(SEEDS)\n",
    "\n",
    "# Programmatically create the port objects for each of the port codes\n",
    "for port_code in PORT_CODES:\n",
    "    globals()[port_code] = port.Port() \n",
    "    globals()[port_code].port_code = port_code\n"
   ]
  },
  {
   "cell_type": "markdown",
   "id": "95724805-1974-4443-b154-7e7fb86b32d0",
   "metadata": {},
   "source": [
    "To generate the cdf we can use np.norm.cdf(val, loc, scale) where location is the mean and scale is the standard deviation. \n",
    "To find the values for a certain percent we can use ppf from scipy stats"
   ]
  },
  {
   "cell_type": "code",
   "execution_count": 3,
   "id": "5603109a-2a3d-4a51-bdeb-40cd5115ed04",
   "metadata": {},
   "outputs": [],
   "source": [
    "def generate_scheduled_departure_and_arrival_times(arrival, departure, trip_length, wanted_on_time_percent: float = 0.85) -> None:\n",
    "    trip_distribution = scipy.stats.norm(loc=MEAN_TRIP_TIME, scale=SD_TRIP_TIME)\n",
    "    loading_unloading_distribution = scipy.stats.norm(loc=MEAN_LOADING_UNLOADING_TIME, scale=SD_LOADING_UNLOADING_TIME)\n",
    "\n",
    "    current_time = 0\n",
    "    for i in range(1, trip_length):\n",
    "        # Add the time to get to the next port\n",
    "        current_time += trip_distribution.ppf(wanted_on_time_percent)\n",
    "\n",
    "        # Set the expected arrival time\n",
    "        arrival[i] = current_time\n",
    "\n",
    "        # Add the time to load and unload at that port\n",
    "        current_time += loading_unloading_distribution.ppf(wanted_on_time_percent)\n",
    "\n",
    "        #Set the expected departure time\n",
    "        departure[i] = current_time\n",
    "\n",
    "    for i in range(len(arrival)):\n",
    "        if type(arrival[i]) not in [int, float]:\n",
    "            arrival[i] = arrival[i].item()\n",
    "    for i in range(len(departure)):\n",
    "        if type(departure[i]) not in [int, float]:\n",
    "            departure[i] = departure[i].item()\n",
    "    "
   ]
  },
  {
   "cell_type": "code",
   "execution_count": 4,
   "id": "10919f80-1cde-4203-922a-f712c7682b44",
   "metadata": {},
   "outputs": [],
   "source": [
    "expected_arrival = [ 0 for i in range(4)]\n",
    "expected_departure = [0 for i in range(4)]\n",
    "\n",
    "generate_scheduled_departure_and_arrival_times(expected_arrival, expected_departure, 4, 0.85)"
   ]
  },
  {
   "cell_type": "code",
   "execution_count": 5,
   "id": "97b345d7-3c54-4708-a182-a0467e7ea983",
   "metadata": {
    "editable": true,
    "scrolled": true,
    "slideshow": {
     "slide_type": ""
    },
    "tags": []
   },
   "outputs": [
    {
     "name": "stdout",
     "output_type": "stream",
     "text": [
      "{0.05: [[3, 2], [3, 2], [3, 2], [3, 2], [3, 2], [3, 2], [3, 2], [3, 2], [3, 2], [3, 2], [3, 2], [3, 2], [3, 2], [2, 2], [3, 2]], 0.1: [[3, 2], [3, 2], [3, 2], [3, 2], [3, 2], [3, 2], [3, 2], [3, 2], [3, 2], [3, 2], [3, 2], [3, 2], [3, 2], [2, 1], [2, 2]], 0.15: [[3, 2], [3, 2], [3, 2], [3, 2], [3, 2], [3, 2], [3, 2], [3, 2], [2, 2], [3, 2], [3, 2], [3, 2], [3, 2], [2, 1], [2, 2]], 0.2: [[3, 2], [3, 2], [3, 2], [3, 2], [3, 2], [3, 2], [3, 2], [3, 2], [2, 2], [2, 2], [3, 2], [3, 2], [3, 2], [2, 1], [0, 1]], 0.25: [[3, 2], [3, 2], [3, 2], [3, 2], [3, 2], [2, 2], [3, 2], [3, 2], [2, 2], [2, 1], [3, 2], [3, 2], [3, 2], [2, 1], [0, 0]], 0.3: [[3, 2], [3, 2], [3, 2], [3, 2], [3, 2], [2, 2], [3, 2], [3, 2], [2, 0], [2, 1], [3, 2], [3, 2], [3, 2], [2, 1], [0, 0]], 0.35: [[1, 2], [2, 2], [3, 2], [3, 1], [2, 2], [2, 2], [3, 2], [3, 2], [2, 0], [2, 1], [3, 2], [3, 2], [3, 2], [2, 1], [0, 0]], 0.4: [[1, 1], [1, 2], [3, 2], [3, 1], [1, 1], [1, 2], [3, 2], [3, 2], [2, 0], [2, 1], [3, 2], [3, 1], [3, 2], [2, 1], [0, 0]], 0.45: [[1, 0], [1, 1], [2, 1], [3, 1], [1, 0], [1, 2], [3, 2], [3, 2], [2, 0], [1, 0], [3, 2], [3, 1], [3, 2], [2, 1], [0, 0]], 0.5: [[0, 0], [1, 1], [2, 1], [2, 1], [1, 0], [1, 1], [2, 2], [2, 2], [2, 0], [1, 0], [3, 2], [2, 0], [3, 2], [1, 0], [0, 0]], 0.55: [[0, 0], [1, 0], [0, 0], [2, 1], [1, 0], [1, 1], [1, 1], [2, 2], [1, 0], [0, 0], [2, 2], [2, 0], [2, 1], [0, 0], [0, 0]], 0.6: [[0, 0], [0, 0], [0, 0], [1, 1], [1, 0], [1, 0], [1, 0], [1, 1], [1, 0], [0, 0], [0, 2], [1, 0], [2, 1], [0, 0], [0, 0]], 0.65: [[0, 0], [0, 0], [0, 0], [1, 0], [0, 0], [1, 0], [0, 0], [1, 1], [0, 0], [0, 0], [0, 2], [1, 0], [2, 1], [0, 0], [0, 0]], 0.7: [[0, 0], [0, 0], [0, 0], [0, 0], [0, 0], [1, 0], [0, 0], [1, 1], [0, 0], [0, 0], [0, 2], [1, 0], [2, 1], [0, 0], [0, 0]], 0.75: [[0, 0], [0, 0], [0, 0], [0, 0], [0, 0], [1, 0], [0, 0], [0, 0], [0, 0], [0, 0], [0, 1], [1, 0], [2, 0], [0, 0], [0, 0]], 0.8: [[0, 0], [0, 0], [0, 0], [0, 0], [0, 0], [0, 0], [0, 0], [0, 0], [0, 0], [0, 0], [0, 0], [0, 0], [1, 0], [0, 0], [0, 0]], 0.85: [[0, 0], [0, 0], [0, 0], [0, 0], [0, 0], [0, 0], [0, 0], [0, 0], [0, 0], [0, 0], [0, 0], [0, 0], [0, 0], [0, 0], [0, 0]], 0.9: [[0, 0], [0, 0], [0, 0], [0, 0], [0, 0], [0, 0], [0, 0], [0, 0], [0, 0], [0, 0], [0, 0], [0, 0], [0, 0], [0, 0], [0, 0]], 0.95: [[0, 0], [0, 0], [0, 0], [0, 0], [0, 0], [0, 0], [0, 0], [0, 0], [0, 0], [0, 0], [0, 0], [0, 0], [0, 0], [0, 0], [0, 0]]}\n",
      "{0.05: [2.933333333333333, 2.0], 0.1: [2.8666666666666667, 1.9333333333333333], 0.15: [2.8, 1.9333333333333333], 0.2: [2.6, 1.8666666666666667], 0.25: [2.533333333333333, 1.7333333333333334], 0.3: [2.533333333333333, 1.6], 0.35: [2.2666666666666666, 1.5333333333333334], 0.4: [2.066666666666667, 1.3333333333333333], 0.45: [1.9333333333333333, 1.0], 0.5: [1.5333333333333334, 0.8], 0.55: [1.0, 0.5333333333333333], 0.6: [0.6, 0.3333333333333333], 0.65: [0.4, 0.26666666666666666], 0.7: [0.3333333333333333, 0.26666666666666666], 0.75: [0.26666666666666666, 0.06666666666666667], 0.8: [0.06666666666666667, 0.0], 0.85: [0.0, 0.0], 0.9: [0.0, 0.0], 0.95: [0.0, 0.0]}\n"
     ]
    },
    {
     "data": {
      "text/plain": [
       "<BarContainer object of 19 artists>"
      ]
     },
     "execution_count": 5,
     "metadata": {},
     "output_type": "execute_result"
    },
    {
     "data": {
      "image/png": "[encoded data removed]",
      "text/plain": [
       "<Figure size 640x480 with 1 Axes>"
      ]
     },
     "metadata": {},
     "output_type": "display_data"
    }
   ],
   "source": [
    "\n",
    "\n",
    "time_to_count_as_late = 0\n",
    "lates_for_each = {}\n",
    "for ppf_value in range(5, 100, 5):\n",
    "    ppf_value = ppf_value / 100\n",
    "    lates_for_each[ppf_value] = []\n",
    "\n",
    "    expected_arrival = [ 0 for i in range(4)]\n",
    "    expected_departure = [0 for i in range(4)]\n",
    "    generate_scheduled_departure_and_arrival_times(expected_arrival, expected_departure, 4, ppf_value)\n",
    "    \n",
    "    for seed_value in SEEDS:\n",
    "        np.random.seed(seed_value)\n",
    "        # Most of the trips take the same amount of time independent of the ferry \n",
    "        # Makes every port to every other port take 20ish minutes. \n",
    "        # Times are made to be the same independent of direction.\n",
    "        TRIP_TIMES = {}\n",
    "        for port in PORT_CODES:\n",
    "            for other_port in [i for i in PORT_CODES if i != port]:\n",
    "                if other_port + port in TRIP_TIMES.keys():\n",
    "                    TRIP_TIMES[port+other_port] = TRIP_TIMES[other_port+port]\n",
    "                else:\n",
    "                    TRIP_TIMES[port + other_port] = np.random.normal(MEAN_TRIP_TIME, SD_TRIP_TIME)\n",
    "    \n",
    "        # Set the loading and unloading times\n",
    "        # Port + Current_time for every 5 step increment\n",
    "        LOADING_AND_UNLOADING_TIMES = {}\n",
    "        for port_code in PORT_CODES:\n",
    "            for time in range(0, MAX_SIMULATION_TIME, 5):\n",
    "                LOADING_AND_UNLOADING_TIMES[globals()[port_code] + time] = np.random.normal(MEAN_LOADING_UNLOADING_TIME, SD_LOADING_UNLOADING_TIME)\n",
    "    \n",
    "        #Create a ferry object\n",
    "        QNW = ferryFile.Ferry()\n",
    "        QNW.ferry_name = \"Queen of New Westminster\"\n",
    "        QNW.ferry_code = \"QNW\"\n",
    "        QNW.ferry_capacity = 150\n",
    "        QNW.ferry_route = [TSA, SWB, SGI, TSA]\n",
    "        QNW.ferry_trip_time = TRIP_TIMES\n",
    "        QNW.set_expected_departure_times(expected_departure)\n",
    "        QNW.set_expected_arrival_times(expected_arrival)\n",
    "        QNW.loading_unloading_time = LOADING_AND_UNLOADING_TIMES\n",
    "        QNW.trips_required = 1\n",
    "        \n",
    "        QNW.trips_completed = 0\n",
    "        QNW.ferry_current_port_index = 0\n",
    "        QNW.validate_arrival_and_departure_times()\n",
    "\n",
    "        QNW.print_stats_at_end = False\n",
    "    \n",
    "    \n",
    "        current_time =0\n",
    "        event_queue = []\n",
    "        heapq.heapify(event_queue)\n",
    "        heapq.heappush(event_queue, (current_time, QNW))\n",
    "        \n",
    "    \n",
    "        current_event = heapq.heappop(event_queue)\n",
    "        while current_event[1].next_function != None:\n",
    "            current_time = current_event[0]\n",
    "    \n",
    "            next_event_time = current_event[1].next_function(current_time)\n",
    "            heapq.heappush(event_queue, (next_event_time, current_event[1]))\n",
    "    \n",
    "            current_event = heapq.heappop(event_queue)\n",
    "\n",
    "        lates_for_each[ppf_value].append(QNW.total_times_late(time_to_count_as_late))\n",
    "\n",
    "\n",
    "\n",
    "\n",
    "print(lates_for_each)\n",
    "for key in lates_for_each.keys():\n",
    "    data = lates_for_each[key]\n",
    "    times_late_to_arrive = [i[0] for i in data]\n",
    "    times_late_to_depart = [i[1] for i in data]\n",
    "\n",
    "    times_late_to_arrive = sum(times_late_to_arrive) / len(times_late_to_arrive)\n",
    "    times_late_to_depart = sum(times_late_to_depart) / len(times_late_to_depart)\n",
    "\n",
    "    lates_for_each[key] = [times_late_to_arrive, times_late_to_depart]\n",
    "print(lates_for_each)\n",
    "\n",
    "plt.bar(lates_for_each.keys(), [lates_for_each[key][0] for key in lates_for_each.keys()], 0.05)"
   ]
  },
  {
   "cell_type": "code",
   "execution_count": null,
   "id": "909ef34e-9a9a-4560-b1e3-c5a659a2fed8",
   "metadata": {},
   "outputs": [],
   "source": []
  }
 ],
 "metadata": {
  "kernelspec": {
   "display_name": "Python 3 (ipykernel)",
   "language": "python",
   "name": "python3"
  },
  "language_info": {
   "codemirror_mode": {
    "name": "ipython",
    "version": 3
   },
   "file_extension": ".py",
   "mimetype": "text/x-python",
   "name": "python",
   "nbconvert_exporter": "python",
   "pygments_lexer": "ipython3",
   "version": "3.12.6"
  }
 },
 "nbformat": 4,
 "nbformat_minor": 5
}
